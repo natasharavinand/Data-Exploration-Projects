{
 "cells": [
  {
   "cell_type": "markdown",
   "metadata": {},
   "source": [
    "# Successful App Profiles for the Google Play and App Store Markets\n",
    "\n",
    "In this project, I attempt to find what creates a profitable app – specifically, what traits are common in apps that maximize user engagement with advertisements and generate profit. I will be using Python for data exploration, cleaning, and analysis.\n",
    "\n",
    "As of September 2018, there were about 2 million iOS apps available on the App Store, and 2.1 million Android apps on Google Play. I will collect and analyze data of mobile apps currently active on both the Google Play and App Store. I will analyze a sample of the total data (4 million apps total) by using two data sets via Kaggle. \n",
    "\n",
    "The first data set will be a sample of approximately 10,000 Androids apps from the Play store from August 2018 – this can be downloaded [here][https://www.kaggle.com/lava18/google-play-store-apps] from Kaggle. The second data set will be a sample of approximately 7,000 iOS apps from the App Store – this can be downloaded [here][https://www.kaggle.com/ramamet4/app-store-apple-data-set-10k-apps].\n",
    "\n",
    "We will go through 3 stages in the process: exploring the data, cleaning the data, and analyzing the data to generate actionable insights. For simplicity, we will be focusing only on free apps presented in the English language."
   ]
  },
  {
   "cell_type": "markdown",
   "metadata": {},
   "source": [
    "## Exploring Our Data\n",
    "\n",
    "We will begin by exploring our data and attempting to discern their configurations. Below is a `explore_data` that takes in a data set, start index, and end index to generate a portion of the data."
   ]
  },
  {
   "cell_type": "code",
   "execution_count": 18,
   "metadata": {},
   "outputs": [],
   "source": [
    "def explore_data(dataset, start, end, rows_and_columns=False):\n",
    "    dataset_slice = dataset[start:end]    \n",
    "    for row in dataset_slice:\n",
    "        print(row)\n",
    "        print('\\n') # adds a new (empty) line after each row\n",
    "\n",
    "    if rows_and_columns:\n",
    "        print('Number of rows:', len(dataset))\n",
    "        print('Number of columns:', len(dataset[0]))"
   ]
  },
  {
   "cell_type": "markdown",
   "metadata": {},
   "source": [
    "Below, we will open each file in order to continue our exploration."
   ]
  },
  {
   "cell_type": "code",
   "execution_count": 19,
   "metadata": {},
   "outputs": [],
   "source": [
    "open_file1 = open('/Users/natasharavinand/Downloads/my_datasets/Projects/googleplaystore.csv')\n",
    "from csv import reader\n",
    "read_file1 = reader(open_file1)\n",
    "playstore_data = list(read_file1)\n",
    "\n",
    "open_file2 = open('/Users/natasharavinand/Downloads/my_datasets/Projects/AppleStore.csv')\n",
    "read_file2 = reader(open_file2)\n",
    "appstore_data = list(read_file2)"
   ]
  },
  {
   "cell_type": "markdown",
   "metadata": {},
   "source": [
    "We will print the header columns of both data sets to get a sense of the material they contain, as well as a few rows from each."
   ]
  },
  {
   "cell_type": "code",
   "execution_count": 20,
   "metadata": {},
   "outputs": [
    {
     "name": "stdout",
     "output_type": "stream",
     "text": [
      "['App', 'Category', 'Rating', 'Reviews', 'Size', 'Installs', 'Type', 'Price', 'Content Rating', 'Genres', 'Last Updated', 'Current Ver', 'Android Ver']\n",
      "\n",
      "\n",
      "['id', 'track_name', 'size_bytes', 'currency', 'price', 'rating_count_tot', 'rating_count_ver', 'user_rating', 'user_rating_ver', 'ver', 'cont_rating', 'prime_genre', 'sup_devices.num', 'ipadSc_urls.num', 'lang.num', 'vpp_lic']\n",
      "\n",
      "\n",
      "Play Store Rows:  [['Photo Editor & Candy Camera & Grid & ScrapBook', 'ART_AND_DESIGN', '4.1', '159', '19M', '10,000+', 'Free', '0', 'Everyone', 'Art & Design', 'January 7, 2018', '1.0.0', '4.0.3 and up'], ['Coloring book moana', 'ART_AND_DESIGN', '3.9', '967', '14M', '500,000+', 'Free', '0', 'Everyone', 'Art & Design;Pretend Play', 'January 15, 2018', '2.0.0', '4.0.3 and up']]\n",
      "\n",
      "\n",
      "App Store Rows:  [['284882215', 'Facebook', '389879808', 'USD', '0.0', '2974676', '212', '3.5', '3.5', '95.0', '4+', 'Social Networking', '37', '1', '29', '1'], ['389801252', 'Instagram', '113954816', 'USD', '0.0', '2161558', '1289', '4.5', '4.0', '10.23', '12+', 'Photo & Video', '37', '0', '29', '1']]\n"
     ]
    }
   ],
   "source": [
    "print(playstore_data[0])\n",
    "print('\\n')\n",
    "print(appstore_data[0])\n",
    "print('\\n')\n",
    "print('Play Store Rows: ', playstore_data[1:3])\n",
    "print('\\n')\n",
    "print('App Store Rows: ', appstore_data[1:3])"
   ]
  },
  {
   "cell_type": "markdown",
   "metadata": {},
   "source": [
    "Some of the information in common include:\n",
    "\n",
    "| Column | Description |\n",
    "| --- | ----------- |\n",
    "| App Title | Title of the app |\n",
    "| Category | The genre designation of the app |\n",
    "| Rating | The average user rating |\n",
    "| Installations | The total number of downloads of the app |\n",
    "| Reviews | The total number of reviews |\n",
    "\n",
    "Some of the column names slightly differ between the two data sets. We can pick out a few criteria that may aid in designating a \"popular\" app, such as the amount of reviews or installations."
   ]
  },
  {
   "cell_type": "markdown",
   "metadata": {},
   "source": [
    "## Cleaning our Data\n",
    "\n",
    "In order to derive accurate and actionable insights, we must clean the data for a few reasons: we must remove duplicate content, ensure updated data, and use data that manages our criteria (free, English-language apps). \n",
    "\n",
    "### Removing erroneous data\n",
    "\n",
    "We see from the documentation the App Store data set has mostly unique values. Upon inspection of the Play Store data set, we see that the element in row 10,473 does not have a value for the `category` column, which has shifted values downward. In order to fix this, we remove this row:"
   ]
  },
  {
   "cell_type": "code",
   "execution_count": 21,
   "metadata": {},
   "outputs": [],
   "source": [
    "del playstore_data[10473]"
   ]
  },
  {
   "cell_type": "markdown",
   "metadata": {},
   "source": [
    "#### Removing duplicate data\n",
    "\n",
    "We inspect the Play Store data set even more to find many duplicates of certain apps. For example, the app Twitter has three entries:"
   ]
  },
  {
   "cell_type": "code",
   "execution_count": 22,
   "metadata": {
    "scrolled": true
   },
   "outputs": [
    {
     "name": "stdout",
     "output_type": "stream",
     "text": [
      "['Twitter', 'NEWS_AND_MAGAZINES', '4.3', '11667403', 'Varies with device', '500,000,000+', 'Free', '0', 'Mature 17+', 'News & Magazines', 'August 6, 2018', 'Varies with device', 'Varies with device']\n",
      "['Twitter', 'NEWS_AND_MAGAZINES', '4.3', '11667403', 'Varies with device', '500,000,000+', 'Free', '0', 'Mature 17+', 'News & Magazines', 'August 6, 2018', 'Varies with device', 'Varies with device']\n",
      "['Twitter', 'NEWS_AND_MAGAZINES', '4.3', '11657972', 'Varies with device', '500,000,000+', 'Free', '0', 'Mature 17+', 'News & Magazines', 'July 30, 2018', 'Varies with device', 'Varies with device']\n"
     ]
    }
   ],
   "source": [
    "for app in playstore_data:\n",
    "    if app[0] == 'Twitter':\n",
    "        print(app)"
   ]
  },
  {
   "cell_type": "markdown",
   "metadata": {},
   "source": [
    "We see this is because the data was collected at different times and thus have a different number of reviews. "
   ]
  },
  {
   "cell_type": "code",
   "execution_count": 23,
   "metadata": {},
   "outputs": [
    {
     "name": "stdout",
     "output_type": "stream",
     "text": [
      "['Quick PDF Scanner + OCR FREE', 'Box', 'Google My Business', 'ZOOM Cloud Meetings', 'join.me - Simple Meetings', 'Box', 'Zenefits', 'Google Ads', 'Google My Business', 'Slack']\n",
      "1181\n"
     ]
    }
   ],
   "source": [
    "duplicate_set = []\n",
    "unique_set = []\n",
    "duplicates = 0\n",
    "\n",
    "for app in playstore_data:\n",
    "    if app[0] in unique_set and app not in duplicate_set:\n",
    "        duplicate_set.append(app[0])\n",
    "        duplicates += 1\n",
    "    elif app[0] not in unique_set:\n",
    "        unique_set.append(app[0])\n",
    "\n",
    "print(duplicate_set[:10])\n",
    "print(duplicates)"
   ]
  },
  {
   "cell_type": "markdown",
   "metadata": {},
   "source": [
    "In fact, we see many duplicates in the set – 1,181 to be exact. Some duplicates are printed above. \n",
    "\n",
    "Therefore, in order to have our final data set include data that is the most recent, we will be removing duplicates with the criterion that they have the highest review count. This will ensure we choose the most recent entry.\n",
    "\n",
    "In order to remove the duplicates, we will use a dictionary that contains one entry per app, with each entry being the most recent one."
   ]
  },
  {
   "cell_type": "code",
   "execution_count": 24,
   "metadata": {},
   "outputs": [],
   "source": [
    "reviews_max = {}\n",
    "\n",
    "for app in playstore_data[1:]:\n",
    "    n_reviews = float(app[3])\n",
    "    name = app[0]\n",
    "    if name in reviews_max and reviews_max[name] < n_reviews:\n",
    "        reviews_max[name] = n_reviews\n",
    "    elif name not in reviews_max:\n",
    "        reviews_max[name] = n_reviews"
   ]
  },
  {
   "cell_type": "markdown",
   "metadata": {},
   "source": [
    "Now that we have a dictionary of each entry, we can begin to create a \"cleaned\" list of data."
   ]
  },
  {
   "cell_type": "code",
   "execution_count": 25,
   "metadata": {},
   "outputs": [],
   "source": [
    "android_clean = []\n",
    "already_added = []\n",
    "\n",
    "for app in playstore_data[1:]:\n",
    "    name = app[0]\n",
    "    reviews = float(app[3])\n",
    "    if (reviews == reviews_max[name]) and (name not in already_added):\n",
    "        android_clean.append(app)\n",
    "        already_added.append(name)"
   ]
  },
  {
   "cell_type": "markdown",
   "metadata": {},
   "source": [
    "#### Removing non-English apps\n",
    "\n",
    "In order to discern which apps have a non-English title, we will be checking for whether any characters in the title have ASCII codes that are not between 0-127, or those found in the English set.\n",
    "\n",
    "We will begin by writing a function that takes in a string and returns whether it is probably English; this function will check whether 3 or more characters are above 127 and will return `False` accordingly."
   ]
  },
  {
   "cell_type": "code",
   "execution_count": 26,
   "metadata": {},
   "outputs": [],
   "source": [
    "def isEnglish(string):\n",
    "    counter = 0\n",
    "    for character in string:\n",
    "        if ord(character) > 127:\n",
    "            counter += 1\n",
    "        if counter > 3:\n",
    "            return False\n",
    "    return True"
   ]
  },
  {
   "cell_type": "markdown",
   "metadata": {},
   "source": [
    "We will now apply the function `isEnglish` to the data sets to obtain only English-language apps."
   ]
  },
  {
   "cell_type": "code",
   "execution_count": 27,
   "metadata": {},
   "outputs": [],
   "source": [
    "android_clean2 = []\n",
    "\n",
    "for app in android_clean:\n",
    "    name = app[0]\n",
    "    if isEnglish(name):\n",
    "        android_clean2.append(app)\n",
    "        \n",
    "appstore_clean = []\n",
    "for app in appstore_data:\n",
    "    name = app[1]\n",
    "    if isEnglish(name):\n",
    "        appstore_clean.append(app)"
   ]
  },
  {
   "cell_type": "markdown",
   "metadata": {},
   "source": [
    "#### Removing paid apps\n",
    "\n",
    "Lastly, we remove all apps whose type is \"Paid\" with a similar methodology from above."
   ]
  },
  {
   "cell_type": "code",
   "execution_count": 28,
   "metadata": {},
   "outputs": [],
   "source": [
    "final_play_data = []\n",
    "\n",
    "for app in android_clean2:\n",
    "    price = app[7]\n",
    "    if price == \"0\":\n",
    "        final_play_data.append(app)\n",
    "\n",
    "final_app_data = []\n",
    "\n",
    "for app in appstore_clean[1:]:\n",
    "    price = float(app[4])\n",
    "    if price == 0:\n",
    "        final_app_data.append(app)"
   ]
  },
  {
   "cell_type": "markdown",
   "metadata": {},
   "source": [
    "Now, we have two cleaned lists of data – `final_play_data` for the Play Store and `final_app_data` for the App Store – to analyze."
   ]
  },
  {
   "cell_type": "markdown",
   "metadata": {},
   "source": [
    "## Analyzing the Data\n",
    "\n",
    "### Finding the most common genres\n",
    "\n",
    "Now, we will analyze our cleaned data sets to find the most common genres of apps and generate a frequency table. The `genres` column and `category` from the Play Store data set and the `prime_genre` table from the App Store data set will help us generate accurate counts.\n",
    "\n",
    "We will:\n",
    "\n",
    "- Build a function to generate frequency tables that show percentages\n",
    "- Build a function to display the percentages in a descending order"
   ]
  },
  {
   "cell_type": "markdown",
   "metadata": {},
   "source": [
    "Now, we will focus on creating our frequency table. Below is a function to generate our frequency table as well as sort it in descending order of percentages."
   ]
  },
  {
   "cell_type": "code",
   "execution_count": 29,
   "metadata": {},
   "outputs": [],
   "source": [
    "def freq_table(data_set, integer):\n",
    "    freq_dict = {}\n",
    "    counter = 0\n",
    "    for row in data_set:\n",
    "        counter += 1\n",
    "        val = row[integer]\n",
    "        if val in freq_dict:\n",
    "            freq_dict[val] += 1\n",
    "        else:\n",
    "            freq_dict[val] = 1\n",
    "    \n",
    "    freq_percentages = {}\n",
    "    for key in freq_dict:\n",
    "        percentage = freq_dict[key] / counter\n",
    "        freq_percentages[key] = percentage\n",
    "        \n",
    "    return freq_percentages\n",
    "            \n",
    "\n",
    "def display_table(dataset, index):\n",
    "    table = freq_table(dataset, index)\n",
    "    table_display = []\n",
    "    for key in table:\n",
    "        key_val_as_tuple = (table[key], key)\n",
    "        table_display.append(key_val_as_tuple)\n",
    "\n",
    "    table_sorted = sorted(table_display, reverse = True)\n",
    "    for entry in table_sorted:\n",
    "        print(entry[1], ':', entry[0])"
   ]
  },
  {
   "cell_type": "markdown",
   "metadata": {},
   "source": [
    "Using these functions, we'll now display the frequency table of the columns `prime_genre`, `Genres`, and `Category`."
   ]
  },
  {
   "cell_type": "code",
   "execution_count": 30,
   "metadata": {},
   "outputs": [
    {
     "name": "stdout",
     "output_type": "stream",
     "text": [
      "Games : 0.5816263190564867\n",
      "Entertainment : 0.07883302296710118\n",
      "Photo & Video : 0.04965859714463067\n",
      "Education : 0.03662321539416512\n",
      "Social Networking : 0.032898820608317815\n",
      "Shopping : 0.0260707635009311\n",
      "Utilities : 0.025139664804469275\n",
      "Sports : 0.021415270018621976\n",
      "Music : 0.020484171322160148\n",
      "Health & Fitness : 0.020173805090006207\n",
      "Productivity : 0.01738050900062073\n",
      "Lifestyle : 0.015828677839851025\n",
      "News : 0.01334574798261949\n",
      "Travel : 0.012414649286157667\n",
      "Finance : 0.0111731843575419\n",
      "Weather : 0.008690254500310366\n",
      "Food & Drink : 0.008069522036002483\n",
      "Reference : 0.00558659217877095\n",
      "Business : 0.005276225946617008\n",
      "Book : 0.004345127250155183\n",
      "Navigation : 0.00186219739292365\n",
      "Medical : 0.00186219739292365\n",
      "Catalogs : 0.0012414649286157666\n"
     ]
    }
   ],
   "source": [
    "display_table(final_app_data, 11) #prime_genre column"
   ]
  },
  {
   "cell_type": "markdown",
   "metadata": {},
   "source": [
    "We see that among the apps on the App Store (with the criteria of free and English-language), the most popular type of app are games. Games represent the majority of apps in this sample of the App Store, claiming 58.16% of the space. Entertainment, Photo & Video, Education, and Social Networking trail. The large volumes of Game and Entertainment apps on the App Store imply that many apps are created for non-practical purposes. However, this also suggests it may be difficult to launch a successful game application due to market saturation."
   ]
  },
  {
   "cell_type": "code",
   "execution_count": 31,
   "metadata": {
    "scrolled": false
   },
   "outputs": [
    {
     "name": "stdout",
     "output_type": "stream",
     "text": [
      "FAMILY : 0.18907942238267147\n",
      "GAME : 0.09724729241877256\n",
      "TOOLS : 0.08461191335740072\n",
      "BUSINESS : 0.04591606498194946\n",
      "LIFESTYLE : 0.039034296028880866\n",
      "PRODUCTIVITY : 0.03892148014440433\n",
      "FINANCE : 0.03700361010830325\n",
      "MEDICAL : 0.03531137184115524\n",
      "SPORTS : 0.03395758122743682\n",
      "PERSONALIZATION : 0.03316787003610108\n",
      "COMMUNICATION : 0.032378158844765345\n",
      "HEALTH_AND_FITNESS : 0.030798736462093863\n",
      "PHOTOGRAPHY : 0.02944494584837545\n",
      "NEWS_AND_MAGAZINES : 0.027978339350180504\n",
      "SOCIAL : 0.026624548736462094\n",
      "TRAVEL_AND_LOCAL : 0.023352888086642598\n",
      "SHOPPING : 0.022450361010830325\n",
      "BOOKS_AND_REFERENCE : 0.021435018050541516\n",
      "DATING : 0.01861462093862816\n",
      "VIDEO_PLAYERS : 0.017937725631768955\n",
      "MAPS_AND_NAVIGATION : 0.013989169675090252\n",
      "FOOD_AND_DRINK : 0.012409747292418772\n",
      "EDUCATION : 0.011620036101083033\n",
      "ENTERTAINMENT : 0.009589350180505414\n",
      "LIBRARIES_AND_DEMO : 0.009363718411552346\n",
      "AUTO_AND_VEHICLES : 0.009250902527075812\n",
      "HOUSE_AND_HOME : 0.008235559566787004\n",
      "WEATHER : 0.008009927797833934\n",
      "EVENTS : 0.007107400722021661\n",
      "PARENTING : 0.006543321299638989\n",
      "ART_AND_DESIGN : 0.006430505415162455\n",
      "COMICS : 0.006204873646209386\n",
      "BEAUTY : 0.005979241877256318\n"
     ]
    }
   ],
   "source": [
    "display_table(final_play_data, 1) "
   ]
  },
  {
   "cell_type": "markdown",
   "metadata": {},
   "source": [
    "The category of apps on the Play Store (with the criteria of free and English-language) that seems to be the most popular is the Family category, representing 18.90% of the sample. The game category is behind at 9.72%, followed by Tools, Business, Lifestyle, and Productivity. This data tells us there may be a greater market for family-oriented or practical applications on the Play Store, although non-practical applications like games or video players are still very abundant."
   ]
  },
  {
   "cell_type": "code",
   "execution_count": 32,
   "metadata": {
    "scrolled": false
   },
   "outputs": [
    {
     "name": "stdout",
     "output_type": "stream",
     "text": [
      "Tools : 0.08449909747292418\n",
      "Entertainment : 0.06069494584837545\n",
      "Education : 0.05347472924187725\n",
      "Business : 0.04591606498194946\n",
      "Productivity : 0.03892148014440433\n",
      "Lifestyle : 0.03892148014440433\n",
      "Finance : 0.03700361010830325\n",
      "Medical : 0.03531137184115524\n",
      "Sports : 0.03463447653429603\n",
      "Personalization : 0.03316787003610108\n",
      "Communication : 0.032378158844765345\n",
      "Action : 0.03102436823104693\n",
      "Health & Fitness : 0.030798736462093863\n",
      "Photography : 0.02944494584837545\n",
      "News & Magazines : 0.027978339350180504\n",
      "Social : 0.026624548736462094\n",
      "Travel & Local : 0.023240072202166066\n",
      "Shopping : 0.022450361010830325\n",
      "Books & Reference : 0.021435018050541516\n",
      "Simulation : 0.020419675090252706\n",
      "Dating : 0.01861462093862816\n",
      "Arcade : 0.018501805054151624\n",
      "Video Players & Editors : 0.017712093862815883\n",
      "Casual : 0.01759927797833935\n",
      "Maps & Navigation : 0.013989169675090252\n",
      "Food & Drink : 0.012409747292418772\n",
      "Puzzle : 0.01128158844765343\n",
      "Racing : 0.009927797833935019\n",
      "Role Playing : 0.009363718411552346\n",
      "Libraries & Demo : 0.009363718411552346\n",
      "Auto & Vehicles : 0.009250902527075812\n",
      "Strategy : 0.009138086642599278\n",
      "House & Home : 0.008235559566787004\n",
      "Weather : 0.008009927797833934\n",
      "Events : 0.007107400722021661\n",
      "Adventure : 0.006768953068592058\n",
      "Comics : 0.006092057761732852\n",
      "Beauty : 0.005979241877256318\n",
      "Art & Design : 0.005979241877256318\n",
      "Parenting : 0.004963898916967509\n",
      "Card : 0.004512635379061372\n",
      "Casino : 0.0042870036101083035\n",
      "Trivia : 0.004174187725631769\n",
      "Educational;Education : 0.0039485559566787\n",
      "Board : 0.003835740072202166\n",
      "Educational : 0.0037229241877256318\n",
      "Education;Education : 0.003384476534296029\n",
      "Word : 0.002594765342960289\n",
      "Casual;Pretend Play : 0.00236913357400722\n",
      "Music : 0.002030685920577617\n",
      "Racing;Action & Adventure : 0.0016922382671480144\n",
      "Puzzle;Brain Games : 0.0016922382671480144\n",
      "Entertainment;Music & Video : 0.0016922382671480144\n",
      "Casual;Brain Games : 0.0013537906137184115\n",
      "Casual;Action & Adventure : 0.0013537906137184115\n",
      "Arcade;Action & Adventure : 0.0012409747292418773\n",
      "Action;Action & Adventure : 0.0010153429602888086\n",
      "Educational;Pretend Play : 0.0009025270758122744\n",
      "Simulation;Action & Adventure : 0.00078971119133574\n",
      "Parenting;Education : 0.00078971119133574\n",
      "Entertainment;Brain Games : 0.00078971119133574\n",
      "Board;Brain Games : 0.00078971119133574\n",
      "Parenting;Music & Video : 0.0006768953068592057\n",
      "Educational;Brain Games : 0.0006768953068592057\n",
      "Casual;Creativity : 0.0006768953068592057\n",
      "Art & Design;Creativity : 0.0006768953068592057\n",
      "Education;Pretend Play : 0.0005640794223826715\n",
      "Role Playing;Pretend Play : 0.0004512635379061372\n",
      "Education;Creativity : 0.0004512635379061372\n",
      "Role Playing;Action & Adventure : 0.0003384476534296029\n",
      "Puzzle;Action & Adventure : 0.0003384476534296029\n",
      "Entertainment;Creativity : 0.0003384476534296029\n",
      "Entertainment;Action & Adventure : 0.0003384476534296029\n",
      "Educational;Creativity : 0.0003384476534296029\n",
      "Educational;Action & Adventure : 0.0003384476534296029\n",
      "Education;Music & Video : 0.0003384476534296029\n",
      "Education;Brain Games : 0.0003384476534296029\n",
      "Education;Action & Adventure : 0.0003384476534296029\n",
      "Adventure;Action & Adventure : 0.0003384476534296029\n",
      "Video Players & Editors;Music & Video : 0.0002256317689530686\n",
      "Sports;Action & Adventure : 0.0002256317689530686\n",
      "Simulation;Pretend Play : 0.0002256317689530686\n",
      "Puzzle;Creativity : 0.0002256317689530686\n",
      "Music;Music & Video : 0.0002256317689530686\n",
      "Entertainment;Pretend Play : 0.0002256317689530686\n",
      "Casual;Education : 0.0002256317689530686\n",
      "Board;Action & Adventure : 0.0002256317689530686\n",
      "Video Players & Editors;Creativity : 0.0001128158844765343\n",
      "Trivia;Education : 0.0001128158844765343\n",
      "Travel & Local;Action & Adventure : 0.0001128158844765343\n",
      "Tools;Education : 0.0001128158844765343\n",
      "Strategy;Education : 0.0001128158844765343\n",
      "Strategy;Creativity : 0.0001128158844765343\n",
      "Strategy;Action & Adventure : 0.0001128158844765343\n",
      "Simulation;Education : 0.0001128158844765343\n",
      "Role Playing;Brain Games : 0.0001128158844765343\n",
      "Racing;Pretend Play : 0.0001128158844765343\n",
      "Puzzle;Education : 0.0001128158844765343\n",
      "Parenting;Brain Games : 0.0001128158844765343\n",
      "Music & Audio;Music & Video : 0.0001128158844765343\n",
      "Lifestyle;Pretend Play : 0.0001128158844765343\n",
      "Lifestyle;Education : 0.0001128158844765343\n",
      "Health & Fitness;Education : 0.0001128158844765343\n",
      "Health & Fitness;Action & Adventure : 0.0001128158844765343\n",
      "Entertainment;Education : 0.0001128158844765343\n",
      "Communication;Creativity : 0.0001128158844765343\n",
      "Comics;Creativity : 0.0001128158844765343\n",
      "Casual;Music & Video : 0.0001128158844765343\n",
      "Card;Action & Adventure : 0.0001128158844765343\n",
      "Books & Reference;Education : 0.0001128158844765343\n",
      "Art & Design;Pretend Play : 0.0001128158844765343\n",
      "Art & Design;Action & Adventure : 0.0001128158844765343\n",
      "Arcade;Pretend Play : 0.0001128158844765343\n",
      "Adventure;Education : 0.0001128158844765343\n"
     ]
    }
   ],
   "source": [
    "display_table(final_play_data, -4) "
   ]
  },
  {
   "cell_type": "markdown",
   "metadata": {},
   "source": [
    "When we look at the genres for the Play Store (with the criteria of free and English-language), Tools has the greatest share of 8.44%, followed by Entertainment with 6.06% and Education with 5.34%. We can derive many of the applications are used for practical purposes. `Genres` seems to have many more labels than `category`, so in order to analyze the big picture, we will be using `category` for further analysis.\n",
    "\n",
    "Some insights we can derive from these frequency tables include:\n",
    "\n",
    "- The App Store has a greater volume of non-practical, fun and entertainment applications\n",
    "- The Play Store has a variety of non-practical and practical applications\n",
    "- The Play Store may have a specific market for family-oriented applications\n",
    "- Compared to the App Store, the Play Store may have a more rounded market (practical vs non-practical)"
   ]
  },
  {
   "cell_type": "markdown",
   "metadata": {},
   "source": [
    "### Finding which apps have the most users\n",
    "\n",
    "To find which genres are the most popular, we can calculate the average number of installs for each app genre. We have the number of installs per app in the `Installs` column of our Play Store data set, but this information is missing from our App Store data set. As a substitute, we will use the number of user ratings, which is located in the `rating_count_tot` column. \n",
    "\n",
    "To calculate the average number of user ratings per app genre on the App Store, we must:\n",
    "\n",
    "- Separate the apps of each genre\n",
    "- Add up the user ratings for the apps of that genre.\n",
    "- Divide the sum by the number of apps belonging to that genre\n",
    "\n",
    "#### Most popular apps per genre on the App Store\n",
    "\n",
    "We will begin with the App Store and the `prime_genre` column. Below, we calculate the average number of user ratings per genre in the App Store data set."
   ]
  },
  {
   "cell_type": "code",
   "execution_count": 33,
   "metadata": {
    "scrolled": false
   },
   "outputs": [
    {
     "name": "stdout",
     "output_type": "stream",
     "text": [
      "Social Networking : 71548.34905660378\n",
      "Photo & Video : 28441.54375\n",
      "Games : 22788.6696905016\n",
      "Music : 57326.530303030304\n",
      "Reference : 74942.11111111111\n",
      "Health & Fitness : 23298.015384615384\n",
      "Weather : 52279.892857142855\n",
      "Utilities : 18684.456790123455\n",
      "Travel : 28243.8\n",
      "Shopping : 26919.690476190477\n",
      "News : 21248.023255813954\n",
      "Navigation : 86090.33333333333\n",
      "Lifestyle : 16485.764705882353\n",
      "Entertainment : 14029.830708661417\n",
      "Food & Drink : 33333.92307692308\n",
      "Sports : 23008.898550724636\n",
      "Book : 39758.5\n",
      "Finance : 31467.944444444445\n",
      "Education : 7003.983050847458\n",
      "Productivity : 21028.410714285714\n",
      "Business : 7491.117647058823\n",
      "Catalogs : 4004.0\n",
      "Medical : 612.0\n"
     ]
    }
   ],
   "source": [
    "app_genres = freq_table(final_app_data, -5)\n",
    "for genre in app_genres:\n",
    "    total = 0\n",
    "    len_genre = 0\n",
    "    for app in final_app_data:\n",
    "        genre_app = app[-5]\n",
    "        if genre_app == genre:\n",
    "            n_ratings = float(app[5])\n",
    "            total += n_ratings\n",
    "            len_genre += 1\n",
    "    avg_n_ratings = total / len_genre\n",
    "    print(genre, \":\" , avg_n_ratings)"
   ]
  },
  {
   "cell_type": "markdown",
   "metadata": {},
   "source": [
    "Here, we see that Navigation apps are the most used, although this could be influenced by a few but very popular applications like Google Maps. Social Networking (with Instagram, Facebook, Twitter, etc) and Music (with Spotify, Pandora, etc) can also be responsible for their category's popularity.\n",
    "\n",
    "Now, we will analyze our Play Store data similarly."
   ]
  },
  {
   "cell_type": "markdown",
   "metadata": {},
   "source": [
    "#### Most popular apps per genre on the Play Store\n",
    "\n",
    "We use our `display_table` function to look at the `Installs` of apps on the Play Store."
   ]
  },
  {
   "cell_type": "code",
   "execution_count": 35,
   "metadata": {},
   "outputs": [
    {
     "name": "stdout",
     "output_type": "stream",
     "text": [
      "1,000,000+ : 0.1572653429602888\n",
      "100,000+ : 0.11552346570397112\n",
      "10,000,000+ : 0.10548285198555957\n",
      "10,000+ : 0.10198555956678701\n",
      "1,000+ : 0.08393501805054152\n",
      "100+ : 0.06915613718411552\n",
      "5,000,000+ : 0.06825361010830325\n",
      "500,000+ : 0.05561823104693141\n",
      "50,000+ : 0.047721119133574005\n",
      "5,000+ : 0.04512635379061372\n",
      "10+ : 0.035424187725631766\n",
      "500+ : 0.032490974729241874\n",
      "50,000,000+ : 0.023014440433212997\n",
      "100,000,000+ : 0.021322202166064983\n",
      "50+ : 0.01917870036101083\n",
      "5+ : 0.0078971119133574\n",
      "1+ : 0.0050767148014440435\n",
      "500,000,000+ : 0.002707581227436823\n",
      "1,000,000,000+ : 0.002256317689530686\n",
      "0+ : 0.0004512635379061372\n",
      "0 : 0.0001128158844765343\n"
     ]
    }
   ],
   "source": [
    "display_table(final_play_data, 5)"
   ]
  },
  {
   "cell_type": "markdown",
   "metadata": {},
   "source": [
    "We see that many of these are open-ended – for example, we don't know if 500+ installs means 500 installs or 1,000,000 installs. In order to remain conservative, we will treat these values as literal values (ex. 500+ installs will be treated as 500 installs). Our analysis, however, would be more accurate if we had access to the number of installations across these apps."
   ]
  },
  {
   "cell_type": "code",
   "execution_count": 41,
   "metadata": {},
   "outputs": [
    {
     "name": "stdout",
     "output_type": "stream",
     "text": [
      "ART_AND_DESIGN : 1986335.0877192982\n",
      "AUTO_AND_VEHICLES : 647317.8170731707\n",
      "BEAUTY : 513151.88679245283\n",
      "BOOKS_AND_REFERENCE : 8767811.894736841\n",
      "BUSINESS : 1712290.1474201474\n",
      "COMICS : 817657.2727272727\n",
      "COMMUNICATION : 38456119.167247385\n",
      "DATING : 854028.8303030303\n",
      "EDUCATION : 1833495.145631068\n",
      "ENTERTAINMENT : 11640705.88235294\n",
      "EVENTS : 253542.22222222222\n",
      "FINANCE : 1387692.475609756\n",
      "FOOD_AND_DRINK : 1924897.7363636363\n",
      "HEALTH_AND_FITNESS : 4188821.9853479853\n",
      "HOUSE_AND_HOME : 1331540.5616438356\n",
      "LIBRARIES_AND_DEMO : 638503.734939759\n",
      "LIFESTYLE : 1437816.2687861272\n",
      "GAME : 15588015.603248259\n",
      "FAMILY : 3695641.8198090694\n",
      "MEDICAL : 120550.61980830671\n",
      "SOCIAL : 23253652.127118643\n",
      "SHOPPING : 7036877.311557789\n",
      "PHOTOGRAPHY : 17840110.40229885\n",
      "SPORTS : 3638640.1428571427\n",
      "TRAVEL_AND_LOCAL : 13984077.710144928\n",
      "TOOLS : 10801391.298666667\n",
      "PERSONALIZATION : 5201482.6122448975\n",
      "PRODUCTIVITY : 16787331.344927534\n",
      "PARENTING : 542603.6206896552\n",
      "WEATHER : 5074486.197183099\n",
      "VIDEO_PLAYERS : 24727872.452830188\n",
      "NEWS_AND_MAGAZINES : 9549178.467741935\n",
      "MAPS_AND_NAVIGATION : 4056941.7741935486\n"
     ]
    }
   ],
   "source": [
    "play_genres = freq_table(final_play_data, 1)\n",
    "\n",
    "for category in play_genres:\n",
    "    total = 0\n",
    "    len_category = 0\n",
    "    for app in final_play_data:\n",
    "        category_app = app[1]\n",
    "        if category_app == category:\n",
    "            n_installs = app[5]\n",
    "            installs = n_installs.replace('+', '')\n",
    "            installs = installs.replace(',', '')\n",
    "            total += float(installs)\n",
    "            len_category += 1\n",
    "    avg_installs = total / len_category\n",
    "    print(category, \":\", avg_installs)"
   ]
  },
  {
   "cell_type": "markdown",
   "metadata": {},
   "source": [
    "We see that communication apps have the most downloads, but this may be the result of a few players in the market – ex. Messenger, WhatsApp – garnering most of the downloads. We see this here:"
   ]
  },
  {
   "cell_type": "code",
   "execution_count": 43,
   "metadata": {},
   "outputs": [
    {
     "name": "stdout",
     "output_type": "stream",
     "text": [
      "imo beta free calls and text : 100,000,000+\n",
      "Android Messages : 100,000,000+\n",
      "Google Duo - High Quality Video Calls : 500,000,000+\n",
      "imo free video calls and chat : 500,000,000+\n",
      "Who : 100,000,000+\n",
      "GO SMS Pro - Messenger, Free Themes, Emoji : 100,000,000+\n",
      "LINE: Free Calls & Messages : 500,000,000+\n",
      "Firefox Browser fast & private : 100,000,000+\n",
      "UC Browser - Fast Download Private & Secure : 500,000,000+\n",
      "Messenger Lite: Free Calls & Messages : 100,000,000+\n",
      "Kik : 100,000,000+\n",
      "KakaoTalk: Free Calls & Text : 100,000,000+\n",
      "Opera Mini - fast web browser : 100,000,000+\n",
      "Opera Browser: Fast and Secure : 100,000,000+\n",
      "Telegram : 100,000,000+\n",
      "Truecaller: Caller ID, SMS spam blocking & Dialer : 100,000,000+\n",
      "UC Browser Mini -Tiny Fast Private & Secure : 100,000,000+\n",
      "Viber Messenger : 500,000,000+\n",
      "WeChat : 100,000,000+\n",
      "Yahoo Mail – Stay Organized : 100,000,000+\n",
      "BBM - Free Calls & Messages : 100,000,000+\n"
     ]
    }
   ],
   "source": [
    "for app in final_play_data:\n",
    "    if (app[5] == '500,000,000+' or app[5] == '100,000,000+') and app[1] == 'COMMUNICATION':\n",
    "        print(app[0], ':', app[5])"
   ]
  },
  {
   "cell_type": "markdown",
   "metadata": {},
   "source": [
    "We see the same trend with video related applications, with some applications composing much of the market, as shown below."
   ]
  },
  {
   "cell_type": "code",
   "execution_count": 51,
   "metadata": {
    "scrolled": true
   },
   "outputs": [
    {
     "name": "stdout",
     "output_type": "stream",
     "text": [
      "Motorola Gallery : 100,000,000+\n",
      "VLC for Android : 100,000,000+\n",
      "MX Player : 500,000,000+\n",
      "Dubsmash : 100,000,000+\n",
      "VivaVideo - Video Editor & Photo Movie : 100,000,000+\n",
      "VideoShow-Video Editor, Video Maker, Beauty Camera : 100,000,000+\n",
      "Motorola FM Radio : 100,000,000+\n"
     ]
    }
   ],
   "source": [
    "for app in final_play_data:\n",
    "    if(app[5] == '500,000,000+' or app[5] == '100,000,000+') and app[1] == 'VIDEO_PLAYERS':\n",
    "        print(app[0], ':', app[5])"
   ]
  },
  {
   "cell_type": "code",
   "execution_count": 53,
   "metadata": {},
   "outputs": [
    {
     "name": "stdout",
     "output_type": "stream",
     "text": [
      "Social Networking : 71548.34905660378\n",
      "Photo & Video : 28441.54375\n",
      "Games : 22788.6696905016\n",
      "Music : 57326.530303030304\n",
      "Reference : 74942.11111111111\n",
      "Health & Fitness : 23298.015384615384\n",
      "Weather : 52279.892857142855\n",
      "Utilities : 18684.456790123455\n",
      "Travel : 28243.8\n",
      "Shopping : 26919.690476190477\n",
      "News : 21248.023255813954\n",
      "Navigation : 86090.33333333333\n",
      "Lifestyle : 16485.764705882353\n",
      "Entertainment : 14029.830708661417\n",
      "Food & Drink : 33333.92307692308\n",
      "Sports : 23008.898550724636\n",
      "Book : 39758.5\n",
      "Finance : 31467.944444444445\n",
      "Education : 7003.983050847458\n",
      "Productivity : 21028.410714285714\n",
      "Business : 7491.117647058823\n",
      "Catalogs : 4004.0\n",
      "Medical : 612.0\n"
     ]
    }
   ],
   "source": [
    "app_genres = freq_table(final_app_data, -5)\n",
    "\n",
    "for category in app_genres:\n",
    "    total = 0\n",
    "    len_category = 0\n",
    "    for app in final_app_data:\n",
    "        category_app = app[-5]\n",
    "        if category_app == category:\n",
    "            n_ratings = app[5]\n",
    "            total += float(n_ratings)\n",
    "            len_category += 1\n",
    "    avg_ratings = total / len_category\n",
    "    print(category, \":\", avg_ratings)"
   ]
  },
  {
   "cell_type": "markdown",
   "metadata": {},
   "source": [
    "We see that in the App Store, we similarly have high numbers of installations for Social Networking, Photo and Video, Games, Music, and Entertainment apps. Other genres that are popular include Reference and Weather."
   ]
  },
  {
   "cell_type": "markdown",
   "metadata": {},
   "source": [
    "We have seen that there is a high volume of games in the App and Play Stores, and that entertainmnent and communication are popularly downloaded applications. However, there might be an oversaturation of games and a difficulty to compete with industry giants that dominate the entertainment, communication, and video markets."
   ]
  },
  {
   "cell_type": "markdown",
   "metadata": {},
   "source": [
    "## Conclusion\n",
    "\n",
    "From what we can gather from a short analysis of the data, games, entertainment, communication, and video apps are all popular in both the Play and App Stores. The App Store market seems to concentrate many non-practical entertainment applications while the Play Store's market seems to be more rounded. The genres of applications that were most popularly downloaded across both stores included communication, music, and entertainment, but as we discussed above this could be due to the presence of a few major applications that carve out a significant piece of the market for their respective genre."
   ]
  }
 ],
 "metadata": {
  "kernelspec": {
   "display_name": "Python 3",
   "language": "python",
   "name": "python3"
  },
  "language_info": {
   "codemirror_mode": {
    "name": "ipython",
    "version": 3
   },
   "file_extension": ".py",
   "mimetype": "text/x-python",
   "name": "python",
   "nbconvert_exporter": "python",
   "pygments_lexer": "ipython3",
   "version": "3.7.6"
  }
 },
 "nbformat": 4,
 "nbformat_minor": 4
}
